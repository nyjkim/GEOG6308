{
 "cells": [
  {
   "cell_type": "code",
   "execution_count": 1,
   "metadata": {},
   "outputs": [],
   "source": [
    "import os\n",
    "import arcpy"
   ]
  },
  {
   "cell_type": "code",
   "execution_count": 2,
   "metadata": {},
   "outputs": [
    {
     "data": {
      "text/plain": [
       "'S:\\\\GEOG_6308.80_Programming_Geospatial_201903\\\\Kim,Yeon-joo-YKim5\\\\class notes\\\\Class 9 arcpy'"
      ]
     },
     "execution_count": 2,
     "metadata": {},
     "output_type": "execute_result"
    }
   ],
   "source": [
    "os.getcwd()"
   ]
  },
  {
   "cell_type": "markdown",
   "metadata": {},
   "source": [
    "os.mkdir() creates a new folder in the current directory that we are in"
   ]
  },
  {
   "cell_type": "code",
   "execution_count": 3,
   "metadata": {},
   "outputs": [],
   "source": [
    "os.mkdir(\"output\")"
   ]
  },
  {
   "cell_type": "markdown",
   "metadata": {},
   "source": [
    "arcpy.env.overwriteOutput = True\n",
    "asks jupyter to overwrite any new Outputs without throwing an error message\n",
    "*only use if you really want to overwrite"
   ]
  },
  {
   "cell_type": "markdown",
   "metadata": {},
   "source": [
    "\"arcpy.Select_analysis()\" takes three arguments: 1) input feature, 2) output location, and 3) the expression"
   ]
  },
  {
   "cell_type": "code",
   "execution_count": 12,
   "metadata": {},
   "outputs": [
    {
     "data": {
      "text/plain": [
       "<Result '.\\\\output\\\\DE.shp'>"
      ]
     },
     "execution_count": 12,
     "metadata": {},
     "output_type": "execute_result"
    }
   ],
   "source": [
    "arcpy.Select_analysis(\n",
    "    # Input feature\n",
    "    \"./tl_2018_us_state.shp\",\n",
    "    # Output shapefile\n",
    "    \"./output/DE.shp\",\n",
    "    # Expression\n",
    "    '\"NAME\" = \\'Delaware\\''\n",
    ")"
   ]
  },
  {
   "cell_type": "markdown",
   "metadata": {},
   "source": [
    "Write a function state_select(state) that will perform this process for an arbitrary state and return the path to the output shapefile as a string."
   ]
  },
  {
   "cell_type": "code",
   "execution_count": 16,
   "metadata": {},
   "outputs": [],
   "source": [
    "def select_state(state):\n",
    "    x = str(state)\n",
    "    arcpy.Select_analysis(\n",
    "        \"./tl_2018_us_state.shp\",\n",
    "        \"./output/%s.shp\" %x,\n",
    "        '\"NAME\" = \\'%s\\'' %x\n",
    "    )\n",
    "    print x"
   ]
  },
  {
   "cell_type": "code",
   "execution_count": 18,
   "metadata": {},
   "outputs": [
    {
     "name": "stdout",
     "output_type": "stream",
     "text": [
      "California\n"
     ]
    }
   ],
   "source": [
    "select_state('California')"
   ]
  },
  {
   "cell_type": "markdown",
   "metadata": {},
   "source": [
    "CLIP"
   ]
  },
  {
   "cell_type": "code",
   "execution_count": 19,
   "metadata": {},
   "outputs": [],
   "source": [
    "def state_districts_116(state):\n",
    "    arcpy.Clip_analysis(\n",
    "        \"./tl_2018_us_cd116.shp\",\n",
    "        \"./output/%s.shp\" %state,\n",
    "        \"./output/cong_%s.shp\" %state\n",
    "    )"
   ]
  },
  {
   "cell_type": "code",
   "execution_count": 20,
   "metadata": {},
   "outputs": [],
   "source": [
    "state_districts_116('California')"
   ]
  },
  {
   "cell_type": "markdown",
   "metadata": {},
   "source": [
    "# Loop for List of States "
   ]
  },
  {
   "cell_type": "code",
   "execution_count": 21,
   "metadata": {},
   "outputs": [],
   "source": [
    "state_list = [\"Maryland\",\"New York\",\"Florida\",\"Texas\",\"Alaska\"]"
   ]
  },
  {
   "cell_type": "code",
   "execution_count": 23,
   "metadata": {},
   "outputs": [
    {
     "name": "stdout",
     "output_type": "stream",
     "text": [
      "Maryland\n",
      "Maryland\n",
      "New York\n",
      "New York\n",
      "Florida\n",
      "Florida\n",
      "Texas\n",
      "Texas\n",
      "Alaska\n",
      "Alaska\n"
     ]
    }
   ],
   "source": [
    "for state in state_list:\n",
    "    select_state(state)\n",
    "    state_districts_116(state)\n",
    "print \"Completed!\""
   ]
  }
 ],
 "metadata": {
  "kernelspec": {
   "display_name": "Python 2",
   "language": "python",
   "name": "python2"
  },
  "language_info": {
   "codemirror_mode": {
    "name": "ipython",
    "version": 2
   },
   "file_extension": ".py",
   "mimetype": "text/x-python",
   "name": "python",
   "nbconvert_exporter": "python",
   "pygments_lexer": "ipython2",
   "version": "2.7.16"
  }
 },
 "nbformat": 4,
 "nbformat_minor": 2
}
